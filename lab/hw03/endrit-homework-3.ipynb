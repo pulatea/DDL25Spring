{
  "cells": [
    {
      "cell_type": "markdown",
      "metadata": {
        "id": "16f826fae5ee999"
      },
      "source": [
        "# Homework 3 - Attacks and Defenses in Federated Learning\n",
        "In this assignment, we will further explore the impact of various attacks and corresponding defenses within the context of federated learning.\n",
        "\n",
        "# Instructions\n",
        "\n",
        "Submit your assignment as a Jupyter notebook with all relevant execution outputs and plots visible. Clearly indicate the relevant steps in your code, such as data preprocessing, model definition, training, etc. Partial grades can be given for incomplete problems provided the steps are clearly indicated."
      ],
      "id": "16f826fae5ee999"
    },
    {
      "metadata": {
        "id": "3095ed2d739a4e02"
      },
      "cell_type": "markdown",
      "source": [
        "#### Endrit Jakupi, 24-119-299"
      ],
      "id": "3095ed2d739a4e02"
    },
    {
      "cell_type": "code",
      "source": [
        "from google.colab import files\n",
        "uploaded = files.upload()"
      ],
      "metadata": {
        "colab": {
          "base_uri": "https://localhost:8080/",
          "height": 69
        },
        "id": "9Efsyspxo0RA",
        "outputId": "1d6a2965-33d7-40a7-f802-2fc4116f5048"
      },
      "id": "9Efsyspxo0RA",
      "execution_count": 1,
      "outputs": [
        {
          "output_type": "display_data",
          "data": {
            "text/plain": [
              "<IPython.core.display.HTML object>"
            ],
            "text/html": [
              "\n",
              "     <input type=\"file\" id=\"files-048852d7-f566-4e76-b49e-6c3c0b5126c8\" name=\"files[]\" multiple disabled\n",
              "        style=\"border:none\" />\n",
              "     <output id=\"result-048852d7-f566-4e76-b49e-6c3c0b5126c8\">\n",
              "      Upload widget is only available when the cell has been executed in the\n",
              "      current browser session. Please rerun this cell to enable.\n",
              "      </output>\n",
              "      <script>// Copyright 2017 Google LLC\n",
              "//\n",
              "// Licensed under the Apache License, Version 2.0 (the \"License\");\n",
              "// you may not use this file except in compliance with the License.\n",
              "// You may obtain a copy of the License at\n",
              "//\n",
              "//      http://www.apache.org/licenses/LICENSE-2.0\n",
              "//\n",
              "// Unless required by applicable law or agreed to in writing, software\n",
              "// distributed under the License is distributed on an \"AS IS\" BASIS,\n",
              "// WITHOUT WARRANTIES OR CONDITIONS OF ANY KIND, either express or implied.\n",
              "// See the License for the specific language governing permissions and\n",
              "// limitations under the License.\n",
              "\n",
              "/**\n",
              " * @fileoverview Helpers for google.colab Python module.\n",
              " */\n",
              "(function(scope) {\n",
              "function span(text, styleAttributes = {}) {\n",
              "  const element = document.createElement('span');\n",
              "  element.textContent = text;\n",
              "  for (const key of Object.keys(styleAttributes)) {\n",
              "    element.style[key] = styleAttributes[key];\n",
              "  }\n",
              "  return element;\n",
              "}\n",
              "\n",
              "// Max number of bytes which will be uploaded at a time.\n",
              "const MAX_PAYLOAD_SIZE = 100 * 1024;\n",
              "\n",
              "function _uploadFiles(inputId, outputId) {\n",
              "  const steps = uploadFilesStep(inputId, outputId);\n",
              "  const outputElement = document.getElementById(outputId);\n",
              "  // Cache steps on the outputElement to make it available for the next call\n",
              "  // to uploadFilesContinue from Python.\n",
              "  outputElement.steps = steps;\n",
              "\n",
              "  return _uploadFilesContinue(outputId);\n",
              "}\n",
              "\n",
              "// This is roughly an async generator (not supported in the browser yet),\n",
              "// where there are multiple asynchronous steps and the Python side is going\n",
              "// to poll for completion of each step.\n",
              "// This uses a Promise to block the python side on completion of each step,\n",
              "// then passes the result of the previous step as the input to the next step.\n",
              "function _uploadFilesContinue(outputId) {\n",
              "  const outputElement = document.getElementById(outputId);\n",
              "  const steps = outputElement.steps;\n",
              "\n",
              "  const next = steps.next(outputElement.lastPromiseValue);\n",
              "  return Promise.resolve(next.value.promise).then((value) => {\n",
              "    // Cache the last promise value to make it available to the next\n",
              "    // step of the generator.\n",
              "    outputElement.lastPromiseValue = value;\n",
              "    return next.value.response;\n",
              "  });\n",
              "}\n",
              "\n",
              "/**\n",
              " * Generator function which is called between each async step of the upload\n",
              " * process.\n",
              " * @param {string} inputId Element ID of the input file picker element.\n",
              " * @param {string} outputId Element ID of the output display.\n",
              " * @return {!Iterable<!Object>} Iterable of next steps.\n",
              " */\n",
              "function* uploadFilesStep(inputId, outputId) {\n",
              "  const inputElement = document.getElementById(inputId);\n",
              "  inputElement.disabled = false;\n",
              "\n",
              "  const outputElement = document.getElementById(outputId);\n",
              "  outputElement.innerHTML = '';\n",
              "\n",
              "  const pickedPromise = new Promise((resolve) => {\n",
              "    inputElement.addEventListener('change', (e) => {\n",
              "      resolve(e.target.files);\n",
              "    });\n",
              "  });\n",
              "\n",
              "  const cancel = document.createElement('button');\n",
              "  inputElement.parentElement.appendChild(cancel);\n",
              "  cancel.textContent = 'Cancel upload';\n",
              "  const cancelPromise = new Promise((resolve) => {\n",
              "    cancel.onclick = () => {\n",
              "      resolve(null);\n",
              "    };\n",
              "  });\n",
              "\n",
              "  // Wait for the user to pick the files.\n",
              "  const files = yield {\n",
              "    promise: Promise.race([pickedPromise, cancelPromise]),\n",
              "    response: {\n",
              "      action: 'starting',\n",
              "    }\n",
              "  };\n",
              "\n",
              "  cancel.remove();\n",
              "\n",
              "  // Disable the input element since further picks are not allowed.\n",
              "  inputElement.disabled = true;\n",
              "\n",
              "  if (!files) {\n",
              "    return {\n",
              "      response: {\n",
              "        action: 'complete',\n",
              "      }\n",
              "    };\n",
              "  }\n",
              "\n",
              "  for (const file of files) {\n",
              "    const li = document.createElement('li');\n",
              "    li.append(span(file.name, {fontWeight: 'bold'}));\n",
              "    li.append(span(\n",
              "        `(${file.type || 'n/a'}) - ${file.size} bytes, ` +\n",
              "        `last modified: ${\n",
              "            file.lastModifiedDate ? file.lastModifiedDate.toLocaleDateString() :\n",
              "                                    'n/a'} - `));\n",
              "    const percent = span('0% done');\n",
              "    li.appendChild(percent);\n",
              "\n",
              "    outputElement.appendChild(li);\n",
              "\n",
              "    const fileDataPromise = new Promise((resolve) => {\n",
              "      const reader = new FileReader();\n",
              "      reader.onload = (e) => {\n",
              "        resolve(e.target.result);\n",
              "      };\n",
              "      reader.readAsArrayBuffer(file);\n",
              "    });\n",
              "    // Wait for the data to be ready.\n",
              "    let fileData = yield {\n",
              "      promise: fileDataPromise,\n",
              "      response: {\n",
              "        action: 'continue',\n",
              "      }\n",
              "    };\n",
              "\n",
              "    // Use a chunked sending to avoid message size limits. See b/62115660.\n",
              "    let position = 0;\n",
              "    do {\n",
              "      const length = Math.min(fileData.byteLength - position, MAX_PAYLOAD_SIZE);\n",
              "      const chunk = new Uint8Array(fileData, position, length);\n",
              "      position += length;\n",
              "\n",
              "      const base64 = btoa(String.fromCharCode.apply(null, chunk));\n",
              "      yield {\n",
              "        response: {\n",
              "          action: 'append',\n",
              "          file: file.name,\n",
              "          data: base64,\n",
              "        },\n",
              "      };\n",
              "\n",
              "      let percentDone = fileData.byteLength === 0 ?\n",
              "          100 :\n",
              "          Math.round((position / fileData.byteLength) * 100);\n",
              "      percent.textContent = `${percentDone}% done`;\n",
              "\n",
              "    } while (position < fileData.byteLength);\n",
              "  }\n",
              "\n",
              "  // All done.\n",
              "  yield {\n",
              "    response: {\n",
              "      action: 'complete',\n",
              "    }\n",
              "  };\n",
              "}\n",
              "\n",
              "scope.google = scope.google || {};\n",
              "scope.google.colab = scope.google.colab || {};\n",
              "scope.google.colab._files = {\n",
              "  _uploadFiles,\n",
              "  _uploadFilesContinue,\n",
              "};\n",
              "})(self);\n",
              "</script> "
            ]
          },
          "metadata": {}
        },
        {
          "output_type": "stream",
          "name": "stdout",
          "text": [
            "Saving hfl_complete.py to hfl_complete.py\n"
          ]
        }
      ]
    },
    {
      "metadata": {
        "ExecuteTime": {
          "end_time": "2025-04-28T18:02:36.728363Z",
          "start_time": "2025-04-28T18:02:23.719864Z"
        },
        "id": "46507aaf6cb8b3d7",
        "colab": {
          "base_uri": "https://localhost:8080/"
        },
        "outputId": "eaef66e6-ecc0-45c3-bcd9-a77335c60f5e"
      },
      "cell_type": "code",
      "source": [
        "from hfl_complete import *\n",
        "import matplotlib.pyplot as plt\n",
        "import seaborn as sns\n",
        "import numpy as np\n",
        "import random\n",
        "import torch\n",
        "import torch.nn.functional as F\n",
        "from torch.utils.data import Subset, DataLoader\n",
        "from torch.optim import SGD, Optimizer\n",
        "from torchvision import datasets, transforms\n",
        "from dataclasses import dataclass\n",
        "from time import perf_counter\n",
        "from tqdm import tqdm\n",
        "import gc"
      ],
      "id": "46507aaf6cb8b3d7",
      "outputs": [
        {
          "output_type": "stream",
          "name": "stderr",
          "text": [
            "100%|██████████| 9.91M/9.91M [00:00<00:00, 16.7MB/s]\n",
            "100%|██████████| 28.9k/28.9k [00:00<00:00, 479kB/s]\n",
            "100%|██████████| 1.65M/1.65M [00:00<00:00, 4.48MB/s]\n",
            "100%|██████████| 4.54k/4.54k [00:00<00:00, 6.91MB/s]\n"
          ]
        }
      ],
      "execution_count": 2
    },
    {
      "metadata": {
        "ExecuteTime": {
          "end_time": "2025-04-28T18:02:36.752745Z",
          "start_time": "2025-04-28T18:02:36.749010Z"
        },
        "id": "b665f11e17dcb7ee"
      },
      "cell_type": "code",
      "source": [
        "device = torch.device(\"cuda\" if torch.cuda.is_available() else \"cpu\")"
      ],
      "id": "b665f11e17dcb7ee",
      "outputs": [],
      "execution_count": 3
    },
    {
      "metadata": {
        "ExecuteTime": {
          "end_time": "2025-04-28T18:02:38.882628Z",
          "start_time": "2025-04-28T18:02:36.865612Z"
        },
        "id": "8e6bdb70b335fccb"
      },
      "cell_type": "code",
      "source": [
        "sample_split = split(100, False, 42)  # Non-i.i.d. Data"
      ],
      "id": "8e6bdb70b335fccb",
      "outputs": [],
      "execution_count": 4
    },
    {
      "metadata": {
        "id": "3835d0b8f4dfb18f"
      },
      "cell_type": "markdown",
      "source": [
        "## Question 1: Influence of Non-I.I.D. Data in Attacks and Defenses (4 points)\n",
        "\n",
        "Using the template code from [attacks_and_defenses.ipynb](https://github.com/lydiaYchen/DDL25Spring/blob/main/lab/tutorial_3/attacks_and_defenses.ipynb), experiment with how non-i.i.d. data distributions influence the performance of attacks and defenses. Utilize the `AttackerGradientReversion` for the attack. Keep all hyperparameters the same as those in the template code, except modify the data distribution among the clients to be non-i.i.d.\n",
        "\n",
        "### Scoring:\n",
        "\n",
        "- _(1 point)_ Generate test accuracy for 10 rounds, both when there is no defense and when the defenses are `krum`, `multi_krum`, and `majority_sign`.\n",
        "- _(1 point)_ Compile the results of these runs into one plot to visually compare the influence of each defense mechanism under non-i.i.d. conditions.\n",
        "- _(2 points)_ Discuss the differences (if any) between the results in i.i.d. and non-i.i.d. settings for each defense mechanism."
      ],
      "id": "3835d0b8f4dfb18f"
    },
    {
      "metadata": {
        "ExecuteTime": {
          "end_time": "2025-04-28T18:02:38.896606Z",
          "start_time": "2025-04-28T18:02:38.890666Z"
        },
        "id": "c32f0a7e86a9a8a1"
      },
      "cell_type": "code",
      "source": [
        "class GradWeightClient(Client):\n",
        "    def __init__(self, client_data: Subset, lr: float, batch_size: int, nr_epochs: int) -> None:\n",
        "        super().__init__(client_data, batch_size)\n",
        "        self.optimizer = SGD(params=self.model.parameters(), lr=lr)\n",
        "        self.nr_epochs = nr_epochs\n",
        "\n",
        "    def update(self, weights: list[torch.Tensor], seed: int) -> list[torch.Tensor]:\n",
        "        # Load the server weights into the model\n",
        "        with torch.no_grad():\n",
        "            for client_values, server_values in zip(self.model.parameters(), weights):\n",
        "                client_values[:] = server_values\n",
        "\n",
        "        torch.manual_seed(seed)\n",
        "\n",
        "        # Save initial weights to calculate the gradients later\n",
        "        initial_weights = [param.clone() for param in self.model.parameters()]\n",
        "\n",
        "        for _epoch in range(self.nr_epochs):\n",
        "            train_epoch(self.model, self.loader_train, self.optimizer)\n",
        "\n",
        "        # Calculate gradients: initial_weights - final_weights\n",
        "        gradients = [initial_weight - final_weight for final_weight, initial_weight in zip(self.model.parameters(), initial_weights)]\n",
        "        return [gradient.detach().cpu().clone() for gradient in gradients]\n",
        "\n",
        "class FedAvgGradServer(DecentralizedServer):\n",
        "    def __init__(\n",
        "            self, lr: float, batch_size: int, client_subsets: list[Subset],\n",
        "            client_fraction: float, nr_local_epochs: int, seed: int) -> None:\n",
        "        super().__init__(lr, batch_size, client_subsets, client_fraction, seed)\n",
        "        self.name = \"FedAvg\"\n",
        "        self.nr_local_epochs = nr_local_epochs\n",
        "        self.clients = [\n",
        "            GradWeightClient(subset, lr, batch_size, nr_local_epochs)\n",
        "            for subset in client_subsets]\n",
        "\n",
        "    def run(self, nr_rounds: int) -> RunResult:\n",
        "        elapsed_time = 0.\n",
        "        run_result = RunResult(self.name, self.nr_clients, self.client_fraction, self.batch_size, self.nr_local_epochs, self.lr, self.seed)\n",
        "\n",
        "        # Initial server weights\n",
        "        server_weights = [param.data.clone() for param in self.model.parameters()]\n",
        "\n",
        "        for nr_round in tqdm(range(nr_rounds), desc=\"Rounds\", leave=False):\n",
        "            # Other code remains the same until the aggregation part\n",
        "            setup_start_time = perf_counter()\n",
        "            self.model.train()\n",
        "            weights = [x.detach().cpu().clone() for x in self.model.parameters()]\n",
        "            indices_chosen_clients = self.rng.choice(self.nr_clients, self.nr_clients_per_round, replace=False)\n",
        "            chosen_sum_nr_samples = sum(self.client_sample_counts[i] for i in indices_chosen_clients)\n",
        "            chosen_adjusted_weights: list[list[torch.Tensor]] = []\n",
        "            elapsed_time += perf_counter() - setup_start_time\n",
        "            update_time = 0.\n",
        "\n",
        "            for c_i in indices_chosen_clients:\n",
        "                update_start_time = perf_counter()\n",
        "                ind = int(c_i)\n",
        "                client_round_seed = self.seed + ind + 1 + nr_round * self.nr_clients_per_round\n",
        "                client_weights = self.clients[ind].update(weights, client_round_seed)\n",
        "                chosen_adjusted_weights.append([\n",
        "                    self.client_sample_counts[ind] / chosen_sum_nr_samples * tens\n",
        "                     for tens in client_weights])\n",
        "                update_time = max(update_time, perf_counter() - update_start_time)\n",
        "\n",
        "            elapsed_time += update_time\n",
        "            aggregate_start_time = perf_counter()\n",
        "            averaged_gradients: list[torch.Tensor] = [sum(x) for x in zip(*chosen_adjusted_weights)]\n",
        "\n",
        "            # Update server model with averaged gradients\n",
        "            with torch.no_grad():\n",
        "                for server_weight, gradient in zip(server_weights, averaged_gradients):\n",
        "                    server_weight -= gradient.to(device=device)  # Assume learning rate is absorbed in gradient\n",
        "\n",
        "            # Distribute updated weights to clients\n",
        "            with torch.no_grad():\n",
        "                for param, server_weight in zip(self.model.parameters(), server_weights):\n",
        "                    param.data[:] = server_weight.data\n",
        "\n",
        "\n",
        "            elapsed_time += perf_counter() - aggregate_start_time\n",
        "            run_result.wall_time.append(round(elapsed_time, 1))\n",
        "            run_result.message_count.append(2 * (nr_round + 1) * self.nr_clients_per_round)\n",
        "            run_result.test_accuracy.append(self.test())\n",
        "\n",
        "        return run_result"
      ],
      "id": "c32f0a7e86a9a8a1",
      "outputs": [],
      "execution_count": 5
    },
    {
      "metadata": {
        "ExecuteTime": {
          "end_time": "2025-04-28T18:02:38.901869Z",
          "start_time": "2025-04-28T18:02:38.900006Z"
        },
        "id": "e12e03cd4372fdf5"
      },
      "cell_type": "code",
      "source": [
        "class AttackerGradientReversion(GradWeightClient):\n",
        "    def update(self, weights: list[torch.Tensor], seed: int) -> list[torch.Tensor]:\n",
        "        # Call the base implementation to perform the normal training and update process\n",
        "        honest_gradients = super().update(weights, seed)\n",
        "\n",
        "        # Reverse the gradients: for a malicious client, negate the weights to simulate an attack\n",
        "        reversed_gradients = [-5*w for w in honest_gradients]\n",
        "\n",
        "        return reversed_gradients"
      ],
      "id": "e12e03cd4372fdf5",
      "outputs": [],
      "execution_count": 6
    },
    {
      "metadata": {
        "ExecuteTime": {
          "end_time": "2025-04-28T18:02:38.909641Z",
          "start_time": "2025-04-28T18:02:38.906335Z"
        },
        "id": "184062fe23c2c2e8"
      },
      "cell_type": "code",
      "source": [
        "def krum(clients_updates, n=20, m=4):\n",
        "    # Number of neighboring updates to consider\n",
        "    n_neighbors = n - m - 2\n",
        "    scores = []\n",
        "\n",
        "    # Calculate the score for each update\n",
        "    for i in range(len(clients_updates)):\n",
        "        distances = []\n",
        "        for j in range(len(clients_updates)):\n",
        "            if i != j:\n",
        "                # Compute squared l2 distance between updates\n",
        "                distance = sum((param_i - param_j).pow(2).sum()\n",
        "                               for param_i, param_j in zip(clients_updates[i][1], clients_updates[j][1]))\n",
        "                distances.append(distance)\n",
        "\n",
        "        # Get the n_neighbors smallest distances\n",
        "        nearest_distances = sorted(distances)[:n_neighbors]\n",
        "        # Sum of these distances is the score of this client's update\n",
        "        scores.append(sum(nearest_distances))\n",
        "\n",
        "    # Select the index with the smallest score\n",
        "    selected_index = scores.index(min(scores))\n",
        "    return [selected_index]\n",
        "\n",
        "def multi_krum(clients_updates, k=14, n=20, m=5):\n",
        "    selected_indices = []\n",
        "    remaining_updates = clients_updates[:]\n",
        "\n",
        "    for i in range(k):\n",
        "        # Apply Krum to the remaining updates and get the index of the best gradient\n",
        "        selected_index = krum(remaining_updates,n-i,m)[0]\n",
        "\n",
        "        # Map selected index from remaining_updates back to the original clients_updates\n",
        "        original_index = clients_updates.index(remaining_updates[selected_index])\n",
        "        selected_indices.append(original_index)\n",
        "\n",
        "        # Remove the selected update from remaining_updates\n",
        "        remaining_updates.pop(selected_index)\n",
        "\n",
        "    return selected_indices\n",
        "\n",
        "def majority_sign_filter(all_updates):\n",
        "    # Transpose the list to group gradients of the same parameter together\n",
        "    parameter_wise_updates = list(zip(*all_updates))\n",
        "\n",
        "    # Calculate sign and count for determining majority\n",
        "    all_signs = [torch.sign(torch.stack(parameter_group, dim=0)) for parameter_group in parameter_wise_updates]\n",
        "\n",
        "    # Determine the majority sign for each parameter coordinate\n",
        "    majority_signs = [torch.sign(torch.sum(signs, dim=0)) for signs in all_signs]\n",
        "\n",
        "    # Filter out gradients whose signs don't match the majority\n",
        "    filtered_updates = []\n",
        "    for idx, parameter_group in enumerate(parameter_wise_updates):\n",
        "        majority_sign = majority_signs[idx]\n",
        "        zeroed_gradients = []\n",
        "\n",
        "        for gradient in parameter_group:\n",
        "            gradient_signs = torch.sign(gradient)\n",
        "            # Zero out gradients where the sign does not match the majority\n",
        "            gradient[gradient_signs != majority_sign] = 0\n",
        "            zeroed_gradients.append(gradient)\n",
        "\n",
        "        # Step 5: Calculate the average of the filtered gradients\n",
        "        filtered_average = torch.mean(torch.stack(zeroed_gradients), dim=0)\n",
        "        filtered_updates.append(filtered_average*20)\n",
        "\n",
        "    return filtered_updates"
      ],
      "id": "184062fe23c2c2e8",
      "outputs": [],
      "execution_count": 7
    },
    {
      "metadata": {
        "ExecuteTime": {
          "end_time": "2025-04-28T18:02:38.919509Z",
          "start_time": "2025-04-28T18:02:38.914430Z"
        },
        "id": "a5f5ce43ec683db5"
      },
      "cell_type": "code",
      "source": [
        "class FedAvgServerDefense(FedAvgGradServer):\n",
        "    def __init__(self, lr: float, batch_size: int, client_subsets: list, client_fraction: float, nr_local_epochs: int, seed: int, defense=None):\n",
        "        super().__init__(lr, batch_size, client_subsets, client_fraction, nr_local_epochs, seed)\n",
        "        self.defense_method = defense\n",
        "\n",
        "    def run(self, nr_rounds: int) -> RunResult:\n",
        "        # The beginning of the method remains unchanged\n",
        "        elapsed_time = 0.\n",
        "        run_result = RunResult(self.name, self.nr_clients, self.client_fraction, self.batch_size, self.nr_local_epochs, self.lr, self.seed)\n",
        "\n",
        "        # Initial server weights\n",
        "        server_weights = [param.data.clone() for param in self.model.parameters()]\n",
        "        for nr_round in tqdm(range(nr_rounds), desc=\"Rounds\", leave=False):\n",
        "            setup_start_time = perf_counter()\n",
        "            self.model.train()\n",
        "            weights = [x.detach().cpu().clone() for x in self.model.parameters()]\n",
        "            indices_chosen_clients = self.rng.choice(self.nr_clients, self.nr_clients_per_round, replace=False)\n",
        "            chosen_sum_nr_samples = sum(self.client_sample_counts[i] for i in indices_chosen_clients)\n",
        "            chosen_adjusted_weights: list[list[torch.Tensor]] = []\n",
        "            elapsed_time += perf_counter() - setup_start_time\n",
        "            update_time = 0.\n",
        "\n",
        "            client_updates = []  # Store (client_index, updates) tuples\n",
        "            for c_i in indices_chosen_clients:\n",
        "                update_start_time = perf_counter()\n",
        "                ind = int(c_i)\n",
        "                client_round_seed = self.seed + ind + 1 + nr_round * self.nr_clients_per_round\n",
        "                client_weights = self.clients[ind].update(weights, client_round_seed)\n",
        "                client_updates.append((ind, client_weights))\n",
        "                update_time = max(update_time, perf_counter() - update_start_time)\n",
        "            if self.defense_method:\n",
        "                selected_indices = self.defense_method(client_updates)\n",
        "            else:\n",
        "                selected_indices = range(len(client_updates))  # Use all updates if no defense is specified\n",
        "            print(f'The following indices are selected in the training {np.sort(indices_chosen_clients[selected_indices])}')\n",
        "            chosen_sum_nr_samples = sum(self.client_sample_counts[i] for i in indices_chosen_clients[selected_indices])\n",
        "            chosen_adjusted_weights = [\n",
        "                [self.client_sample_counts[indices_chosen_clients[ind]] / chosen_sum_nr_samples * tens for tens in client_updates[ind][1]]\n",
        "                for ind in selected_indices\n",
        "            ]\n",
        "            # Aggregation logic remains the same from this point onwards\n",
        "            # Note that chosen_adjusted_weights now only contains updates from clients selected by multi_krum\n",
        "            elapsed_time += update_time\n",
        "            aggregate_start_time = perf_counter()\n",
        "            averaged_gradients: list[torch.Tensor] = [sum(x) for x in zip(*chosen_adjusted_weights)]\n",
        "\n",
        "            # Update server model with averaged gradients\n",
        "            with torch.no_grad():\n",
        "                for server_weight, gradient in zip(server_weights, averaged_gradients):\n",
        "                    server_weight -= gradient.to(device=device)  # Assume learning rate is absorbed in gradient\n",
        "\n",
        "            # Distribute updated weights to clients\n",
        "            with torch.no_grad():\n",
        "                for param, server_weight in zip(self.model.parameters(), server_weights):\n",
        "                    param.data[:] = server_weight.data\n",
        "\n",
        "\n",
        "            elapsed_time += perf_counter() - aggregate_start_time\n",
        "            run_result.wall_time.append(round(elapsed_time, 1))\n",
        "            run_result.message_count.append(2 * (nr_round + 1) * self.nr_clients_per_round)\n",
        "            run_result.test_accuracy.append(self.test())\n",
        "\n",
        "        return run_result"
      ],
      "id": "a5f5ce43ec683db5",
      "outputs": [],
      "execution_count": 8
    },
    {
      "cell_type": "code",
      "source": [
        "class FedAvgServerDefenseCoordinate(FedAvgGradServer):\n",
        "    def __init__(self, lr: float, batch_size: int, client_subsets: list, client_fraction: float, nr_local_epochs: int, seed: int, defense=None):\n",
        "        super().__init__(lr, batch_size, client_subsets, client_fraction, nr_local_epochs, seed)\n",
        "        self.defense_method = defense\n",
        "\n",
        "    def run(self, nr_rounds: int) -> RunResult:\n",
        "        # The beginning of the method remains unchanged\n",
        "        elapsed_time = 0.\n",
        "        run_result = RunResult(self.name, self.nr_clients, self.client_fraction, self.batch_size, self.nr_local_epochs, self.lr, self.seed)\n",
        "\n",
        "        # Initial server weights\n",
        "        server_weights = [param.data.clone() for param in self.model.parameters()]\n",
        "        for nr_round in tqdm(range(nr_rounds), desc=\"Rounds\", leave=False):\n",
        "            setup_start_time = perf_counter()\n",
        "            self.model.train()\n",
        "            weights = [x.detach().cpu().clone() for x in self.model.parameters()]\n",
        "            indices_chosen_clients = self.rng.choice(self.nr_clients, self.nr_clients_per_round, replace=False)\n",
        "            chosen_sum_nr_samples = sum(self.client_sample_counts[i] for i in indices_chosen_clients)\n",
        "            chosen_adjusted_weights: list[list[torch.Tensor]] = []\n",
        "            elapsed_time += perf_counter() - setup_start_time\n",
        "            update_time = 0.\n",
        "\n",
        "            client_updates = []  # Store (client_index, updates) tuples\n",
        "            for c_i in indices_chosen_clients:\n",
        "                update_start_time = perf_counter()\n",
        "                ind = int(c_i)\n",
        "                client_round_seed = self.seed + ind + 1 + nr_round * self.nr_clients_per_round\n",
        "                client_weights = self.clients[ind].update(weights, client_round_seed)\n",
        "                chosen_adjusted_weights.append([\n",
        "                    self.client_sample_counts[ind] / chosen_sum_nr_samples * tens\n",
        "                     for tens in client_weights])\n",
        "                update_time = max(update_time, perf_counter() - update_start_time)\n",
        "\n",
        "            elapsed_time += update_time\n",
        "            aggregate_start_time = perf_counter()\n",
        "            if self.defense_method:\n",
        "                averaged_gradients = self.defense_method(chosen_adjusted_weights)\n",
        "            else:\n",
        "                averaged_gradients: list[torch.Tensor] = [sum(x) for x in zip(*chosen_adjusted_weights)]\n",
        "\n",
        "\n",
        "            # Update server model with averaged gradients\n",
        "            with torch.no_grad():\n",
        "                for server_weight, gradient in zip(server_weights, averaged_gradients):\n",
        "                    server_weight -= gradient.to(device=device)  # Assume learning rate is absorbed in gradient\n",
        "\n",
        "            # Distribute updated weights to clients\n",
        "            with torch.no_grad():\n",
        "                for param, server_weight in zip(self.model.parameters(), server_weights):\n",
        "                    param.data[:] = server_weight.data\n",
        "\n",
        "\n",
        "            elapsed_time += perf_counter() - aggregate_start_time\n",
        "            run_result.wall_time.append(round(elapsed_time, 1))\n",
        "            run_result.message_count.append(2 * (nr_round + 1) * self.nr_clients_per_round)\n",
        "            run_result.test_accuracy.append(self.test())\n",
        "\n",
        "        return run_result"
      ],
      "metadata": {
        "id": "bRHVdOKitnWC"
      },
      "id": "bRHVdOKitnWC",
      "execution_count": 9,
      "outputs": []
    },
    {
      "metadata": {
        "ExecuteTime": {
          "end_time": "2025-04-28T18:06:27.565388Z",
          "start_time": "2025-04-28T18:02:38.926652Z"
        },
        "colab": {
          "base_uri": "https://localhost:8080/"
        },
        "id": "cae43f8e9b14a758",
        "outputId": "581618b1-2e85-4196-9454-99c00a04a035"
      },
      "cell_type": "code",
      "source": [
        "# 1. No Defense\n",
        "fedavg_server_no_defense = FedAvgGradServer(0.02, 200, sample_split, 0.2, 2, 42)\n",
        "clients = fedavg_server_no_defense.clients\n",
        "num_malicious = int(0.20 * len(clients))\n",
        "malicious_indices = np.random.choice(len(clients), num_malicious, replace=False)\n",
        "for idx in malicious_indices:\n",
        "    client_data = clients[idx].loader_train.dataset\n",
        "    clients[idx] = AttackerGradientReversion(client_data, 0.02, 200, 2)\n",
        "\n",
        "result_no_defense = fedavg_server_no_defense.run(10)\n",
        "df_no_defense = result_no_defense.as_df()\n",
        "\n",
        "# 2. Krum\n",
        "fedavg_server_krum = FedAvgServerDefense(0.02, 200, sample_split, 0.2, 2, 42, defense=krum)\n",
        "clients = fedavg_server_krum.clients\n",
        "for idx in malicious_indices:\n",
        "    client_data = clients[idx].loader_train.dataset\n",
        "    clients[idx] = AttackerGradientReversion(client_data, 0.02, 200, 2)\n",
        "\n",
        "result_krum = fedavg_server_krum.run(10)\n",
        "df_krum = result_krum.as_df()\n",
        "\n",
        "# 3. Multi-Krum\n",
        "fedavg_server_multi_krum = FedAvgServerDefense(0.02, 200, sample_split, 0.2, 2, 42, defense=multi_krum)\n",
        "clients = fedavg_server_multi_krum.clients\n",
        "for idx in malicious_indices:\n",
        "    client_data = clients[idx].loader_train.dataset\n",
        "    clients[idx] = AttackerGradientReversion(client_data, 0.02, 200, 2)\n",
        "\n",
        "result_multi_krum = fedavg_server_multi_krum.run(10)\n",
        "df_multi_krum = result_multi_krum.as_df()\n",
        "\n",
        "# 4. Majority Sign\n",
        "fedavg_server_majority_sign = FedAvgServerDefenseCoordinate(0.02, 200, sample_split, 0.2, 2, 42, defense=majority_sign_filter)\n",
        "clients = fedavg_server_majority_sign.clients\n",
        "for idx in malicious_indices:\n",
        "    client_data = clients[idx].loader_train.dataset\n",
        "    clients[idx] = AttackerGradientReversion(client_data, 0.02, 200, 2)\n",
        "\n",
        "result_majority_sign = fedavg_server_majority_sign.run(10)\n",
        "df_majority_sign = result_majority_sign.as_df()"
      ],
      "id": "cae43f8e9b14a758",
      "outputs": [
        {
          "output_type": "stream",
          "name": "stderr",
          "text": [
            "Rounds:   0%|          | 0/10 [00:00<?, ?it/s]"
          ]
        },
        {
          "output_type": "stream",
          "name": "stdout",
          "text": [
            "The following indices are selected in the training [73]\n"
          ]
        },
        {
          "output_type": "stream",
          "name": "stderr",
          "text": [
            "\rRounds:  10%|█         | 1/10 [00:07<01:11,  7.94s/it]"
          ]
        },
        {
          "output_type": "stream",
          "name": "stdout",
          "text": [
            "The following indices are selected in the training [69]\n"
          ]
        },
        {
          "output_type": "stream",
          "name": "stderr",
          "text": [
            "\rRounds:  20%|██        | 2/10 [00:15<01:00,  7.62s/it]"
          ]
        },
        {
          "output_type": "stream",
          "name": "stdout",
          "text": [
            "The following indices are selected in the training [87]\n"
          ]
        },
        {
          "output_type": "stream",
          "name": "stderr",
          "text": [
            "\rRounds:  30%|███       | 3/10 [00:23<00:54,  7.80s/it]"
          ]
        },
        {
          "output_type": "stream",
          "name": "stdout",
          "text": [
            "The following indices are selected in the training [54]\n"
          ]
        },
        {
          "output_type": "stream",
          "name": "stderr",
          "text": [
            "\rRounds:  40%|████      | 4/10 [00:30<00:46,  7.67s/it]"
          ]
        },
        {
          "output_type": "stream",
          "name": "stdout",
          "text": [
            "The following indices are selected in the training [70]\n"
          ]
        },
        {
          "output_type": "stream",
          "name": "stderr",
          "text": [
            "\rRounds:  50%|█████     | 5/10 [00:38<00:38,  7.74s/it]"
          ]
        },
        {
          "output_type": "stream",
          "name": "stdout",
          "text": [
            "The following indices are selected in the training [90]\n"
          ]
        },
        {
          "output_type": "stream",
          "name": "stderr",
          "text": [
            "\rRounds:  60%|██████    | 6/10 [00:46<00:31,  7.75s/it]"
          ]
        },
        {
          "output_type": "stream",
          "name": "stdout",
          "text": [
            "The following indices are selected in the training [39]\n"
          ]
        },
        {
          "output_type": "stream",
          "name": "stderr",
          "text": [
            "\rRounds:  70%|███████   | 7/10 [00:53<00:22,  7.63s/it]"
          ]
        },
        {
          "output_type": "stream",
          "name": "stdout",
          "text": [
            "The following indices are selected in the training [26]\n"
          ]
        },
        {
          "output_type": "stream",
          "name": "stderr",
          "text": [
            "\rRounds:  80%|████████  | 8/10 [01:01<00:15,  7.74s/it]"
          ]
        },
        {
          "output_type": "stream",
          "name": "stdout",
          "text": [
            "The following indices are selected in the training [20]\n"
          ]
        },
        {
          "output_type": "stream",
          "name": "stderr",
          "text": [
            "\rRounds:  90%|█████████ | 9/10 [01:09<00:07,  7.76s/it]"
          ]
        },
        {
          "output_type": "stream",
          "name": "stdout",
          "text": [
            "The following indices are selected in the training [20]\n"
          ]
        },
        {
          "output_type": "stream",
          "name": "stderr",
          "text": [
            "Rounds:   0%|          | 0/10 [00:00<?, ?it/s]"
          ]
        },
        {
          "output_type": "stream",
          "name": "stdout",
          "text": [
            "The following indices are selected in the training [ 7 12 17 36 45 54 63 68 71 73 83 84 89 94]\n"
          ]
        },
        {
          "output_type": "stream",
          "name": "stderr",
          "text": [
            "\rRounds:  10%|█         | 1/10 [00:11<01:46, 11.89s/it]"
          ]
        },
        {
          "output_type": "stream",
          "name": "stdout",
          "text": [
            "The following indices are selected in the training [ 4 13 15 18 34 39 44 51 58 61 69 70 74 84]\n"
          ]
        },
        {
          "output_type": "stream",
          "name": "stderr",
          "text": [
            "\rRounds:  20%|██        | 2/10 [00:24<01:37, 12.16s/it]"
          ]
        },
        {
          "output_type": "stream",
          "name": "stdout",
          "text": [
            "The following indices are selected in the training [ 8 13 28 36 37 40 45 54 68 69 71 76 86 87]\n"
          ]
        },
        {
          "output_type": "stream",
          "name": "stderr",
          "text": [
            "\rRounds:  30%|███       | 3/10 [00:36<01:24, 12.11s/it]"
          ]
        },
        {
          "output_type": "stream",
          "name": "stdout",
          "text": [
            "The following indices are selected in the training [ 7  8  9 11 20 36 50 53 54 69 75 77 85 94]\n"
          ]
        },
        {
          "output_type": "stream",
          "name": "stderr",
          "text": [
            "\rRounds:  40%|████      | 4/10 [00:48<01:12, 12.10s/it]"
          ]
        },
        {
          "output_type": "stream",
          "name": "stdout",
          "text": [
            "The following indices are selected in the training [ 2 10 15 29 31 35 37 45 46 70 73 84 87 94]\n"
          ]
        },
        {
          "output_type": "stream",
          "name": "stderr",
          "text": [
            "\rRounds:  50%|█████     | 5/10 [01:00<01:00, 12.18s/it]"
          ]
        },
        {
          "output_type": "stream",
          "name": "stdout",
          "text": [
            "The following indices are selected in the training [ 7 24 28 31 43 44 62 69 70 73 81 90 93 99]\n"
          ]
        },
        {
          "output_type": "stream",
          "name": "stderr",
          "text": [
            "\rRounds:  60%|██████    | 6/10 [01:12<00:48, 12.20s/it]"
          ]
        },
        {
          "output_type": "stream",
          "name": "stdout",
          "text": [
            "The following indices are selected in the training [ 3  7 12 17 26 32 39 51 55 57 58 70 74 89]\n"
          ]
        },
        {
          "output_type": "stream",
          "name": "stderr",
          "text": [
            "\rRounds:  70%|███████   | 7/10 [01:24<00:35, 11.97s/it]"
          ]
        },
        {
          "output_type": "stream",
          "name": "stdout",
          "text": [
            "The following indices are selected in the training [ 5  7 15 24 34 39 40 43 44 66 77 87 91 95]\n"
          ]
        },
        {
          "output_type": "stream",
          "name": "stderr",
          "text": [
            "\rRounds:  80%|████████  | 8/10 [01:35<00:23, 11.78s/it]"
          ]
        },
        {
          "output_type": "stream",
          "name": "stdout",
          "text": [
            "The following indices are selected in the training [ 3  9 13 20 21 28 37 54 55 81 84 89 90 92]\n"
          ]
        },
        {
          "output_type": "stream",
          "name": "stderr",
          "text": [
            "\rRounds:  90%|█████████ | 9/10 [01:48<00:11, 11.94s/it]"
          ]
        },
        {
          "output_type": "stream",
          "name": "stdout",
          "text": [
            "The following indices are selected in the training [ 2  3 13 20 24 33 36 66 77 81 83 84 90 98]\n"
          ]
        },
        {
          "output_type": "stream",
          "name": "stderr",
          "text": []
        }
      ],
      "execution_count": null
    },
    {
      "metadata": {
        "id": "d67585eed6ddf6f2"
      },
      "cell_type": "markdown",
      "source": [
        "#### Results"
      ],
      "id": "d67585eed6ddf6f2"
    },
    {
      "metadata": {
        "colab": {
          "base_uri": "https://localhost:8080/"
        },
        "id": "e533397fc3b12e6f",
        "outputId": "87ce8999-783e-4fd8-f965-31bc17fe0a2d"
      },
      "cell_type": "code",
      "outputs": [
        {
          "output_type": "stream",
          "name": "stdout",
          "text": [
            "No Defense Accuracy:\n",
            " 0     9.80\n",
            "1    10.28\n",
            "2     8.92\n",
            "3     8.92\n",
            "4     8.92\n",
            "5     9.78\n",
            "6     9.22\n",
            "7     8.92\n",
            "8     8.92\n",
            "9     8.92\n",
            "Name: Test accuracy, dtype: float64\n",
            "\n",
            "Krum Defense Accuracy:\n",
            " 0    10.50\n",
            "1    10.10\n",
            "2    20.21\n",
            "3    18.13\n",
            "4    13.06\n",
            "5    15.95\n",
            "6    18.75\n",
            "7    32.68\n",
            "8    12.15\n",
            "9    19.82\n",
            "Name: Test accuracy, dtype: float64\n",
            "\n",
            "Multi-Krum Defense Accuracy:\n",
            " 0    10.45\n",
            "1    13.51\n",
            "2    31.43\n",
            "3    13.78\n",
            "4    21.79\n",
            "5    27.98\n",
            "6    30.02\n",
            "7    43.73\n",
            "8    42.81\n",
            "9    45.96\n",
            "Name: Test accuracy, dtype: float64\n",
            "\n",
            "Majority Sign Defense Accuracy:\n",
            " 0     9.80\n",
            "1    18.25\n",
            "2    14.76\n",
            "3    10.28\n",
            "4    19.56\n",
            "5    19.39\n",
            "6    10.66\n",
            "7    21.77\n",
            "8    11.90\n",
            "9    16.04\n",
            "Name: Test accuracy, dtype: float64\n"
          ]
        }
      ],
      "execution_count": null,
      "source": [
        "print(\"No Defense Accuracy:\\n\", df_no_defense['Test accuracy'])\n",
        "print(\"\\nKrum Defense Accuracy:\\n\", df_krum['Test accuracy'])\n",
        "print(\"\\nMulti-Krum Defense Accuracy:\\n\", df_multi_krum['Test accuracy'])\n",
        "print(\"\\nMajority Sign Defense Accuracy:\\n\", df_majority_sign['Test accuracy'])"
      ],
      "id": "e533397fc3b12e6f"
    },
    {
      "metadata": {
        "colab": {
          "base_uri": "https://localhost:8080/",
          "height": 564
        },
        "id": "efd6f9b0014f2c7e",
        "outputId": "62f46a24-fbc4-434c-ba92-58b2e78daf7b"
      },
      "cell_type": "code",
      "outputs": [
        {
          "output_type": "display_data",
          "data": {
            "text/plain": [
              "<Figure size 1000x600 with 1 Axes>"
            ],
            "image/png": "[encoded data removed]"
          },
          "metadata": {}
        }
      ],
      "execution_count": null,
      "source": [
        "plt.figure(figsize=(10,6))\n",
        "plt.plot(df_no_defense['Test accuracy'], label='No Defense')\n",
        "plt.plot(df_krum['Test accuracy'], label='Krum')\n",
        "plt.plot(df_multi_krum['Test accuracy'], label='Multi-Krum')\n",
        "plt.plot(df_majority_sign['Test accuracy'], label='Majority Sign')\n",
        "plt.xlabel('Rounds')\n",
        "plt.ylabel('Test Accuracy (%)')\n",
        "plt.title('Attack & Defense Comparison (Non-IID Data)')\n",
        "plt.legend()\n",
        "plt.grid()\n",
        "plt.show()"
      ],
      "id": "efd6f9b0014f2c7e"
    },
    {
      "metadata": {
        "id": "870c2fe2bc72600a"
      },
      "cell_type": "markdown",
      "source": [
        "In the non-i.i.d. setting, each client has a skewed or biased subset of data, which makes the learning process harder and more vulnerable to attacks. We observe that without any defense, the test accuracy remains low and stagnant. However, the impact of defenses varies. While Krum and Majority Sign offer some improvements, Multi-Krum performs the best, reaching much higher accuracy. This difference suggests that defenses like Multi-Krum, which select multiple clients for aggregation, can better handle non-i.i.d. data by capturing a more diverse set of updates, making the system more robust compared to the i.i.d. case where all clients have similar data distributions."
      ],
      "id": "870c2fe2bc72600a"
    },
    {
      "metadata": {
        "id": "51a186b9bec61716"
      },
      "cell_type": "markdown",
      "source": [
        "## Question 2: Implementing Bulyan Defense (5 points)\n",
        "\n",
        "[Bulyan defense](https://arxiv.org/abs/1802.07927) combines aspects of `multi-krum` and `trimmed-mean` to protect against sophisticated attacks in federated environments. In this question, you will implement Bulyan by modifying and combining the existing code in the [attacks_and_defenses.ipynb](https://github.com/lydiaYchen/DDL25Spring/blob/main/lab/tutorial_3/attacks_and_defenses.ipynb).\n",
        "\n",
        "### Scoring:\n",
        "- _(1 point)_ Modify the server-side code to integrate a two-step defense process where:\n",
        "  1. A client-wise defense like `multi-krum` filters out suspicious gradients based on their distance metrics.\n",
        "  2. A coordinate-wise defense like `trimmed-mean` calculates the mean across the remaining gradients after trimming the extremes.\n",
        "\n",
        "- _(1 point)_ Successfully integrate these two defense mechanisms [`multi-krum`, `trimmed-mean`] to implement the Bulyan.\n",
        "- _(3 points)_ Evaluate the performance of your implemented Bulyan defense against three types of attacks: `AttackerGradientReversion`, `AttackerPartGradientReversion`, and `AttackerBackdoor`. Vary the defense hyperparameters to make your defense defend against these attacks while keeping the data distribution i.i.d. and the attacker's hyperparameters constant as per the template. Document the performance of your defense strategy against these attacks in your notebook."
      ],
      "id": "51a186b9bec61716"
    },
    {
      "cell_type": "code",
      "source": [
        "def bulyan(clients_updates, multi_krum_k=14, multi_krum_n=20, multi_krum_m=5, beta=0.4):\n",
        "    \"\"\"\n",
        "    clients_updates: list of gradients (no indices!)\n",
        "\n",
        "    multi_krum_k: number of gradients to select using multi-krum\n",
        "    multi_krum_n: total number of clients\n",
        "    multi_krum_m: number of attackers assumed\n",
        "    beta: proportion for trimmed-mean\n",
        "    \"\"\"\n",
        "    # Here clients_updates is just list of gradients\n",
        "    updates_only = clients_updates\n",
        "    updates_for_krum = list(enumerate(updates_only))  # create (index, update) tuples for multi_krum\n",
        "\n",
        "    # Step 1: Select clients using multi_krum\n",
        "    selected_indices = multi_krum(updates_for_krum, k=multi_krum_k, n=multi_krum_n, m=multi_krum_m)\n",
        "\n",
        "    selected_updates = [clients_updates[i] for i in selected_indices]\n",
        "\n",
        "    # Step 2: Apply trimmed-mean on selected clients\n",
        "    parameter_wise_updates = list(zip(*selected_updates))\n",
        "    n_attackers = int(len(selected_updates) * beta)\n",
        "\n",
        "    trimmed_mean_gradients = []\n",
        "    for parameter_group in parameter_wise_updates:\n",
        "        stacked_updates = torch.stack(parameter_group, dim=0)\n",
        "        sorted_updates = torch.sort(stacked_updates, dim=0)[0]\n",
        "        if n_attackers > 0 and stacked_updates.shape[0] > 2 * n_attackers:\n",
        "            trimmed_updates = sorted_updates[n_attackers:-n_attackers]\n",
        "        else:\n",
        "            trimmed_updates = sorted_updates\n",
        "        mean_gradient = torch.mean(trimmed_updates, dim=0)\n",
        "        trimmed_mean_gradients.append(mean_gradient * 20)\n",
        "\n",
        "    return trimmed_mean_gradients"
      ],
      "metadata": {
        "id": "QCKZdWCu1wcQ"
      },
      "id": "QCKZdWCu1wcQ",
      "execution_count": 14,
      "outputs": []
    },
    {
      "cell_type": "code",
      "source": [
        "fedavg_server_bulyan = FedAvgServerDefenseCoordinate(\n",
        "    0.02, 200, sample_split, 0.2, 2, 42, defense=bulyan\n",
        ")"
      ],
      "metadata": {
        "id": "dzZmgCBP2Bp2"
      },
      "id": "dzZmgCBP2Bp2",
      "execution_count": 15,
      "outputs": []
    },
    {
      "cell_type": "code",
      "source": [
        "@dataclass\n",
        "class Batch:\n",
        "    batch_id: int\n",
        "    inputs: torch.Tensor\n",
        "    labels: torch.Tensor\n",
        "\n",
        "    def __post_init__(self):\n",
        "        self.batch_size = self.inputs.shape[0]\n",
        "\n",
        "    def to(self, device):\n",
        "        inputs = self.inputs.to(device)\n",
        "        labels = self.labels.to(device)\n",
        "        return Batch(self.batch_id, inputs, labels)\n",
        "\n",
        "    def clone(self):\n",
        "        inputs = self.inputs.clone()\n",
        "        labels = self.labels.clone()\n",
        "        return Batch(self.batch_id, inputs, labels)\n",
        "\n",
        "\n",
        "    def clip(self, batch_size):\n",
        "        if batch_size is None:\n",
        "            return self\n",
        "\n",
        "        inputs = self.inputs[:batch_size]\n",
        "        labels = self.labels[:batch_size]\n",
        "\n",
        "        return Batch(self.batch_id, inputs, labels)\n",
        "\n",
        "class Synthesizer:\n",
        "    def __init__(self, poisoning_proportion):\n",
        "        self.poisoning_proportion = poisoning_proportion\n",
        "\n",
        "    def make_backdoor_batch(self, batch: Batch, test=False, attack=True) -> Batch:\n",
        "        if not attack:\n",
        "            return batch\n",
        "\n",
        "        if test:\n",
        "            attack_portion = batch.batch_size\n",
        "        else:\n",
        "            attack_portion = round(\n",
        "                batch.batch_size * self.poisoning_proportion)\n",
        "\n",
        "        backdoored_batch = batch.clone()\n",
        "        self.apply_backdoor(backdoored_batch, attack_portion)\n",
        "        return backdoored_batch\n",
        "\n",
        "    def apply_backdoor(self, batch, attack_portion):\n",
        "        \"\"\"\n",
        "        Modifies only a portion of the batch (represents batch poisoning).\n",
        "\n",
        "        :param batch:\n",
        "        :return:\n",
        "        \"\"\"\n",
        "        self.synthesize_inputs(batch=batch, attack_portion=attack_portion)\n",
        "        self.synthesize_labels(batch=batch, attack_portion=attack_portion)\n",
        "\n",
        "        return\n",
        "\n",
        "    def synthesize_inputs(self, batch, attack_portion=None):\n",
        "        raise NotImplemented\n",
        "\n",
        "    def synthesize_labels(self, batch, attack_portion=None):\n",
        "        raise NotImplemented\n",
        "\n",
        "class PatternSynthesizer(Synthesizer):\n",
        "    pattern_tensor: torch.Tensor = torch.tensor([\n",
        "        [1., 0., 1.],\n",
        "        [-10., 1., -10.],\n",
        "        [-10., -10., 0.],\n",
        "        [-10., 1., -10.],\n",
        "        [1., 0., 1.]\n",
        "    ])\n",
        "    \"Just some random 2D pattern.\"\n",
        "\n",
        "    x_top = 3\n",
        "    \"X coordinate to put the backdoor into.\"\n",
        "    y_top = 23\n",
        "    \"Y coordinate to put the backdoor into.\"\n",
        "\n",
        "    mask_value = -10\n",
        "    \"A tensor coordinate with this value won't be applied to the image.\"\n",
        "\n",
        "    resize_scale = (5, 10)\n",
        "    \"If the pattern is dynamically placed, resize the pattern.\"\n",
        "\n",
        "    mask: torch.Tensor = None\n",
        "    \"A mask used to combine backdoor pattern with the original image.\"\n",
        "\n",
        "    pattern: torch.Tensor = None\n",
        "    \"A tensor of the `input.shape` filled with `mask_value` except backdoor.\"\n",
        "\n",
        "    def __init__(self, poisoning_proportion):\n",
        "        super().__init__(poisoning_proportion)\n",
        "        self.input_shape = (1, 28, 28)\n",
        "        self.backdoor_label = 0\n",
        "        self.normalize = transforms.Normalize((0.1307,), (0.3081,))\n",
        "        self.make_pattern(self.pattern_tensor, self.x_top, self.y_top)\n",
        "\n",
        "\n",
        "    def make_pattern(self, pattern_tensor, x_top, y_top):\n",
        "        # put pattern into the image\n",
        "        full_image = torch.zeros(self.input_shape)\n",
        "        full_image.fill_(self.mask_value)\n",
        "        # full image has a pixel value of -10\n",
        "        x_bot = x_top + pattern_tensor.shape[0]\n",
        "        y_bot = y_top + pattern_tensor.shape[1]\n",
        "\n",
        "        if x_bot >= self.input_shape[1] or \\\n",
        "                y_bot >= self.input_shape[2]:\n",
        "            raise ValueError(f'Position of backdoor outside image limits:'\n",
        "                             f'image: {self.input_shape}, but backdoor'\n",
        "                             f'ends at ({x_bot}, {y_bot})')\n",
        "\n",
        "        full_image[:, x_top:x_bot, y_top:y_bot] = pattern_tensor\n",
        "        # full image has a pixel value of -10 except for the backdoor (pattern_tensor) size: 5 * 3\n",
        "        self.mask = 1 * (full_image != self.mask_value).to(device) # (0, 1)\n",
        "        # mask is a tensor of 0 and 1, 0 for -10 and 1 for other values\n",
        "        self.pattern = self.normalize(full_image).to(device) # )(-52.5678, 2.7537)\n",
        "\n",
        "\n",
        "    def synthesize_inputs(self, batch, attack_portion=None):\n",
        "        pattern, mask = self.get_pattern()\n",
        "        # mask value (0, 1); value 0, keep the original image; value 1, replace with pattern\n",
        "        batch.inputs[:attack_portion] = (1 - mask) * \\\n",
        "                                        batch.inputs[:attack_portion] + \\\n",
        "                                        mask * pattern\n",
        "\n",
        "        return\n",
        "\n",
        "    def synthesize_labels(self, batch, attack_portion=None):\n",
        "        batch.labels[:attack_portion].fill_(self.backdoor_label)\n",
        "        return\n",
        "\n",
        "    def get_pattern(self):\n",
        "        return self.pattern, self.mask"
      ],
      "metadata": {
        "id": "Ig3oxQ6lA3ip"
      },
      "id": "Ig3oxQ6lA3ip",
      "execution_count": 16,
      "outputs": []
    },
    {
      "cell_type": "code",
      "source": [
        "# Create the synthesizer object\n",
        "synthesizer = PatternSynthesizer(poisoning_proportion=0.1)"
      ],
      "metadata": {
        "id": "tFG8ODe2B4rS"
      },
      "id": "tFG8ODe2B4rS",
      "execution_count": 17,
      "outputs": []
    },
    {
      "cell_type": "code",
      "source": [
        "class AttackerGradientReversion(GradWeightClient):\n",
        "    def update(self, weights: list[torch.Tensor], seed: int) -> list[torch.Tensor]:\n",
        "        # Call the base implementation to perform the normal training and update process\n",
        "        honest_gradients = super().update(weights, seed)\n",
        "\n",
        "        # Reverse the gradients: for a malicious client, negate the weights to simulate an attack\n",
        "        reversed_gradients = [-5*w for w in honest_gradients]\n",
        "\n",
        "        return reversed_gradients"
      ],
      "metadata": {
        "id": "CzvKjF5u7cvI"
      },
      "id": "CzvKjF5u7cvI",
      "execution_count": 18,
      "outputs": []
    },
    {
      "cell_type": "code",
      "source": [
        "class AttackerPartGradientReversion(GradWeightClient):\n",
        "    def update(self, weights: list[torch.Tensor], seed: int) -> list[torch.Tensor]:\n",
        "        # Set random seed for reproducibility\n",
        "        torch.manual_seed(seed)\n",
        "\n",
        "        # Call the base implementation to perform the normal training and update process\n",
        "        honest_gradients = super().update(weights, seed)\n",
        "\n",
        "        # Flatten the gradients and calculate 10% of the total number of gradient elements\n",
        "        all_gradients = torch.cat([g.flatten() for g in honest_gradients])\n",
        "        num_to_manipulate = int(all_gradients.numel())\n",
        "\n",
        "        # Determine the threshold of parameters to modify\n",
        "        param_threshold = num_to_manipulate*0.00001  # Set this to your desired threshold\n",
        "\n",
        "        # Select the first k layers until the cumulative number of parameters exceeds the threshold\n",
        "        cumulative_params = 0\n",
        "        selected_gradients = []\n",
        "        for gradient in honest_gradients:\n",
        "            #print(gradient.numel())\n",
        "            cumulative_params += gradient.numel()\n",
        "            selected_gradients.append(gradient)\n",
        "            if cumulative_params >= param_threshold:\n",
        "                break\n",
        "\n",
        "        # Multiply the selected gradients by -1000\n",
        "        for gradient in selected_gradients:\n",
        "            gradient *= -1000\n",
        "\n",
        "        return honest_gradients"
      ],
      "metadata": {
        "id": "b1LDXtA07foD"
      },
      "id": "b1LDXtA07foD",
      "execution_count": 19,
      "outputs": []
    },
    {
      "cell_type": "code",
      "source": [
        "class AttackerBackdoor(GradWeightClient):\n",
        "    def train_epoch(self, model: torch.nn.Module, loader: DataLoader, optimizer: Optimizer) -> None:\n",
        "        model.train()\n",
        "        for batch_idx, (inputs, labels) in enumerate(loader):\n",
        "            batch = Batch(batch_idx, inputs, labels)\n",
        "            batch = batch.to(device)\n",
        "            backdoored_batch = synthesizer.make_backdoor_batch(batch, test=False, attack=True)\n",
        "            data = backdoored_batch.inputs\n",
        "            target = backdoored_batch.labels\n",
        "            optimizer.zero_grad()\n",
        "            output = model(data)\n",
        "            loss = F.nll_loss(output, target)\n",
        "            loss.backward()\n",
        "            optimizer.step()\n",
        "\n",
        "    def update(self, weights: list[torch.Tensor], seed: int) -> list[torch.Tensor]:\n",
        "        # Load the server weights into the model\n",
        "        with torch.no_grad():\n",
        "            for client_values, server_values in zip(self.model.parameters(), weights):\n",
        "                client_values[:] = server_values\n",
        "\n",
        "        torch.manual_seed(seed)\n",
        "\n",
        "        # Save initial weights to calculate the gradients later\n",
        "        initial_weights = [param.clone() for param in self.model.parameters()]\n",
        "\n",
        "        for _epoch in range(self.nr_epochs):\n",
        "            self.train_epoch(self.model, self.loader_train, self.optimizer)\n",
        "\n",
        "        # Calculate gradients: final_weights - initial_weights\n",
        "        gradients = [2*(initial_weight - final_weight) for final_weight, initial_weight in zip(self.model.parameters(), initial_weights)]\n",
        "\n",
        "        return [gradient.detach().cpu().clone() for gradient in gradients]"
      ],
      "metadata": {
        "id": "YTp1sJlx7iT_"
      },
      "id": "YTp1sJlx7iT_",
      "execution_count": 20,
      "outputs": []
    },
    {
      "metadata": {
        "id": "46266fbfc2554583"
      },
      "cell_type": "markdown",
      "source": [
        "#### Training with AttackerGradientReversion"
      ],
      "id": "46266fbfc2554583"
    },
    {
      "cell_type": "code",
      "source": [
        "fedavg_server_bulyan_reverse = FedAvgServerDefenseCoordinate(0.02, 200, sample_split, 0.2, 2, 42, defense=bulyan)\n",
        "clients = fedavg_server_bulyan_reverse.clients\n",
        "\n",
        "num_malicious = int(0.20 * len(clients))\n",
        "malicious_indices = np.random.choice(len(clients), num_malicious, replace=False)\n",
        "\n",
        "for idx in malicious_indices:\n",
        "    client_data = clients[idx].loader_train.dataset\n",
        "    lr = clients[idx].optimizer.param_groups[0]['lr']\n",
        "    batch_size = clients[idx].loader_train.batch_size\n",
        "    nr_epochs = clients[idx].nr_epochs\n",
        "    clients[idx] = AttackerGradientReversion(client_data, lr, batch_size, nr_epochs)\n",
        "\n",
        "result_bulyan_reverse = fedavg_server_bulyan_reverse.run(10)\n",
        "df_bulyan_reverse = result_bulyan_reverse.as_df()"
      ],
      "metadata": {
        "colab": {
          "base_uri": "https://localhost:8080/"
        },
        "id": "30MIBc7U7jZV",
        "outputId": "baa23681-d639-430e-87b9-8dd19a65572b"
      },
      "id": "30MIBc7U7jZV",
      "execution_count": null,
      "outputs": [
        {
          "output_type": "stream",
          "name": "stderr",
          "text": []
        }
      ]
    },
    {
      "metadata": {
        "id": "793f9c6f3c604437"
      },
      "cell_type": "markdown",
      "source": [
        "#### Training with AttackerPartGradientReversion"
      ],
      "id": "793f9c6f3c604437"
    },
    {
      "cell_type": "code",
      "source": [
        "fedavg_server_bulyan_part = FedAvgServerDefenseCoordinate(0.02, 200, sample_split, 0.2, 2, 42, defense=bulyan)\n",
        "clients = fedavg_server_bulyan_part.clients\n",
        "\n",
        "num_malicious = int(0.20 * len(clients))\n",
        "malicious_indices = np.random.choice(len(clients), num_malicious, replace=False)\n",
        "\n",
        "for idx in malicious_indices:\n",
        "    client_data = clients[idx].loader_train.dataset\n",
        "    lr = clients[idx].optimizer.param_groups[0]['lr']\n",
        "    batch_size = clients[idx].loader_train.batch_size\n",
        "    nr_epochs = clients[idx].nr_epochs\n",
        "    clients[idx] = AttackerPartGradientReversion(client_data, lr, batch_size, nr_epochs)\n",
        "\n",
        "result_bulyan_part = fedavg_server_bulyan_part.run(10)\n",
        "df_bulyan_part = result_bulyan_part.as_df()"
      ],
      "metadata": {
        "colab": {
          "base_uri": "https://localhost:8080/"
        },
        "id": "VbQMCBLo7mAc",
        "outputId": "6d94f93a-6bf5-4538-c147-87522388901b"
      },
      "id": "VbQMCBLo7mAc",
      "execution_count": null,
      "outputs": [
        {
          "output_type": "stream",
          "name": "stderr",
          "text": []
        }
      ]
    },
    {
      "metadata": {
        "id": "168bf831ca449aed"
      },
      "cell_type": "markdown",
      "source": [
        "#### Training with AttackerBackdoor"
      ],
      "id": "168bf831ca449aed"
    },
    {
      "cell_type": "code",
      "source": [
        "fedavg_server_bulyan_backdoor = FedAvgServerDefenseCoordinate(0.02, 200, sample_split, 0.2, 2, 42, defense=bulyan)\n",
        "clients = fedavg_server_bulyan_backdoor.clients\n",
        "\n",
        "num_malicious = int(0.20 * len(clients))\n",
        "malicious_indices = np.random.choice(len(clients), num_malicious, replace=False)\n",
        "\n",
        "for idx in malicious_indices:\n",
        "    client_data = clients[idx].loader_train.dataset\n",
        "    lr = clients[idx].optimizer.param_groups[0]['lr']\n",
        "    batch_size = clients[idx].loader_train.batch_size\n",
        "    nr_epochs = clients[idx].nr_epochs\n",
        "    clients[idx] = AttackerBackdoor(client_data, lr, batch_size, nr_epochs)\n",
        "\n",
        "result_bulyan_backdoor = fedavg_server_bulyan_backdoor.run(10)\n",
        "df_bulyan_backdoor = result_bulyan_backdoor.as_df()"
      ],
      "metadata": {
        "colab": {
          "base_uri": "https://localhost:8080/"
        },
        "id": "IsdDLBJq7nkD",
        "outputId": "ae768b81-9fa4-4b30-a4a4-2343f205f003"
      },
      "id": "IsdDLBJq7nkD",
      "execution_count": null,
      "outputs": [
        {
          "output_type": "stream",
          "name": "stderr",
          "text": []
        }
      ]
    },
    {
      "metadata": {
        "id": "3bf8e1681f63ce93"
      },
      "cell_type": "markdown",
      "source": [
        "#### Results"
      ],
      "id": "3bf8e1681f63ce93"
    },
    {
      "cell_type": "code",
      "source": [
        "# Print the test accuracies\n",
        "print(\"Bulyan vs Gradient Reversion Attack:\\n\", df_bulyan_reverse['Test accuracy'])\n",
        "print(\"\\nBulyan vs Partial Reversion Attack:\\n\", df_bulyan_part['Test accuracy'])\n",
        "print(\"\\nBulyan vs Backdoor Attack:\\n\", df_bulyan_backdoor['Test accuracy'])"
      ],
      "metadata": {
        "colab": {
          "base_uri": "https://localhost:8080/"
        },
        "id": "chVm5qy-7pLJ",
        "outputId": "e086a60b-8fcb-427a-c895-f11235eddc2c"
      },
      "id": "chVm5qy-7pLJ",
      "execution_count": null,
      "outputs": [
        {
          "output_type": "stream",
          "name": "stdout",
          "text": [
            "Bulyan vs Gradient Reversion Attack:\n",
            " 0    13.27\n",
            "1    12.88\n",
            "2    14.12\n",
            "3    22.80\n",
            "4    20.55\n",
            "5    22.89\n",
            "6    26.88\n",
            "7    31.82\n",
            "8    41.14\n",
            "9    28.64\n",
            "Name: Test accuracy, dtype: float64\n",
            "\n",
            "Bulyan vs Partial Reversion Attack:\n",
            " 0    10.62\n",
            "1    10.10\n",
            "2    20.49\n",
            "3    19.56\n",
            "4    19.80\n",
            "5    34.75\n",
            "6    27.03\n",
            "7    38.06\n",
            "8    43.95\n",
            "9    33.54\n",
            "Name: Test accuracy, dtype: float64\n",
            "\n",
            "Bulyan vs Backdoor Attack:\n",
            " 0     8.92\n",
            "1    10.10\n",
            "2     9.74\n",
            "3    25.04\n",
            "4    13.31\n",
            "5    27.86\n",
            "6    14.02\n",
            "7    16.31\n",
            "8    12.10\n",
            "9    31.96\n",
            "Name: Test accuracy, dtype: float64\n"
          ]
        }
      ]
    },
    {
      "cell_type": "code",
      "source": [
        "# Plotting the test accuracies\n",
        "plt.figure(figsize=(10, 6))\n",
        "\n",
        "plt.plot(df_bulyan_reverse['Test accuracy'], label='Bulyan vs Gradient Reversion Attack')\n",
        "plt.plot(df_bulyan_part['Test accuracy'], label='Bulyan vs Partial Reversion Attack')\n",
        "plt.plot(df_bulyan_backdoor['Test accuracy'], label='Bulyan vs Backdoor Attack')\n",
        "\n",
        "plt.xlabel('Rounds')\n",
        "plt.ylabel('Test Accuracy (%)')\n",
        "plt.title('Bulyan Defense against Different Attacks')\n",
        "plt.legend()\n",
        "plt.grid(True)\n",
        "plt.show()"
      ],
      "metadata": {
        "colab": {
          "base_uri": "https://localhost:8080/",
          "height": 564
        },
        "id": "k-h3S5xNEtPf",
        "outputId": "4647776b-c161-484b-c4e1-773089ffcd8c"
      },
      "id": "k-h3S5xNEtPf",
      "execution_count": null,
      "outputs": [
        {
          "output_type": "display_data",
          "data": {
            "text/plain": [
              "<Figure size 1000x600 with 1 Axes>"
            ],
            "image/png": "[encoded data removed]"
          },
          "metadata": {}
        }
      ]
    },
    {
      "metadata": {
        "id": "69dd67eeae4559c9"
      },
      "cell_type": "markdown",
      "source": [
        "The Bulyan defense was evaluated against three types of attacks—Gradient Reversion, Partial Reversion, and Backdoor—across 10 training rounds. The results show that Bulyan provides increasing robustness over time, especially against Gradient and Partial Reversion attacks, achieving test accuracies of over 40% by the final round. Although the accuracy under Backdoor attack was generally lower, Bulyan still maintained a clear improvement compared to earlier rounds. These results confirm that Bulyan's combination of multi-krum and trimmed-mean effectively filters out malicious gradients, making the training more resilient to different attack types while preserving performance on i.i.d. data."
      ],
      "id": "69dd67eeae4559c9"
    },
    {
      "metadata": {
        "id": "4c0f8c69a99977a7"
      },
      "cell_type": "markdown",
      "source": [
        "## Question 3: Implementing SparseFed Defense (7 points)\n",
        "\n",
        "In this exercise, you will implement the [SparseFed Defense](https://arxiv.org/abs/2112.06274). SparseFed Defense involves two main steps for each participating device during the training process:\n",
        "1. **Clipping the gradient:** Each device clips its gradient to reduce the impact of potentially malicious updates.\n",
        "2. **Aggregating top-k updates:** During the aggregation phase, only the gradients with the highest magnitudes (top-k) are considered. This method is designed to minimize the risk of model poisoning by excluding anomalous gradient contributions from potentially compromised devices.\n",
        "\n",
        "### Scoring:\n",
        "- _(2 points)_ Implement a simplified version of SparseFed based on the clipping code provided in the template notebook. Unlike the original algorithm which includes momentum, you only need to implement the clipping step and the sparsification step. However, ensure that only the top-k coordinates in the aggregated gradients are selected based on their magnitudes. For example, if the aggregated gradient is `[3, -1, -1, -3]`, selecting the top-2 by magnitude should result in `[3, 0, 0, -3]`.\n",
        "\n",
        "- _(3 points)_ Evaluate the performance of your implemented SparseFed defense against two types of attacks: `AttackerGradientReversion` and `AttackerBackdoor`. Adjust the values of the defense hyperparameter k to optimize defense effectiveness. Ensure the data distribution remains i.i.d., and the attacker's hyperparameters are unchanged from the template. Document and compare the performance of SparseFed to the simple clipping defense across these attack scenarios. Suggested values for k include percentages of the total parameters, such as 20%, 50%, and 80%.\n",
        "\n",
        "- _(2 points)_ Analyze and discuss the results to determine if SparseFed provided any improvements. Explain why the sparsefication either succeeded or failed in enhancing the model's robustness against the specified attacks. Include this analysis in your notebook.\n",
        "\n",
        "\n",
        "![image.png](attachment:40764930-c1b4-4b6c-84d2-cc6f43c6b402.png)"
      ],
      "id": "4c0f8c69a99977a7"
    },
    {
      "metadata": {
        "id": "26a22bac31746fcc"
      },
      "cell_type": "code",
      "outputs": [],
      "execution_count": 10,
      "source": [
        "sample_split = split(100, True, 42)  # i.i.d. data"
      ],
      "id": "26a22bac31746fcc"
    },
    {
      "cell_type": "code",
      "source": [
        "def sparsefed_defense(clients_updates, clip_norm=10.0, topk_ratio=0.2):\n",
        "    clipped_updates = []\n",
        "    for gradients in clients_updates:\n",
        "        flat_grad = torch.cat([g.flatten() for g in gradients])\n",
        "        norm = torch.norm(flat_grad, p=2)\n",
        "        scale = min(1.0, clip_norm / (norm + 1e-6))\n",
        "        scaled_flat_grad = flat_grad * scale\n",
        "\n",
        "        reshaped_grads = []\n",
        "        pointer = 0\n",
        "        for g in gradients:\n",
        "            numel = g.numel()\n",
        "            reshaped_grads.append(scaled_flat_grad[pointer:pointer+numel].view_as(g))\n",
        "            pointer += numel\n",
        "        clipped_updates.append(reshaped_grads)\n",
        "\n",
        "    parameter_wise_updates = list(zip(*clipped_updates))\n",
        "    averaged_updates = [torch.mean(torch.stack(updates), dim=0) for updates in parameter_wise_updates]\n",
        "\n",
        "    flat_avg_grad = torch.cat([g.flatten() for g in averaged_updates])\n",
        "    k = int(topk_ratio * flat_avg_grad.numel())\n",
        "    topk_indices = torch.topk(flat_avg_grad.abs(), k, largest=True, sorted=False)[1]\n",
        "    mask = torch.zeros_like(flat_avg_grad)\n",
        "    mask[topk_indices] = 1\n",
        "    sparse_grad = flat_avg_grad * mask\n",
        "\n",
        "    sparse_updates = []\n",
        "    pointer = 0\n",
        "    for g in averaged_updates:\n",
        "        numel = g.numel()\n",
        "        sparse_updates.append(sparse_grad[pointer:pointer+numel].view_as(g))\n",
        "        pointer += numel\n",
        "\n",
        "    return sparse_updates"
      ],
      "metadata": {
        "id": "cR-NQMnmc4XO"
      },
      "id": "cR-NQMnmc4XO",
      "execution_count": 11,
      "outputs": []
    },
    {
      "metadata": {
        "id": "580e8fd8021f8834"
      },
      "cell_type": "markdown",
      "source": [
        "#### Top-k = 20% with AttackerGradientReversion"
      ],
      "id": "580e8fd8021f8834"
    },
    {
      "cell_type": "code",
      "source": [
        "topk_ratio = 0.2\n",
        "fedavg_server = FedAvgServerDefenseCoordinate(\n",
        "    0.02, 200, sample_split, 0.2, 2, 42,\n",
        "    defense=lambda x: sparsefed_defense(x, clip_norm=10.0, topk_ratio=topk_ratio)\n",
        ")\n",
        "clients = fedavg_server.clients\n",
        "num_malicious = int(0.20 * len(clients))\n",
        "malicious_indices = np.random.choice(len(clients), num_malicious, replace=False)\n",
        "\n",
        "for idx in malicious_indices:\n",
        "    client_data = clients[idx].loader_train.dataset\n",
        "    lr = clients[idx].optimizer.param_groups[0]['lr']\n",
        "    batch_size = clients[idx].loader_train.batch_size\n",
        "    nr_epochs = clients[idx].nr_epochs\n",
        "    clients[idx] = AttackerGradientReversion(client_data, lr, batch_size, nr_epochs)\n",
        "\n",
        "result_20_reverse = fedavg_server.run(10)\n",
        "df_20_reverse = result_20_reverse.as_df()"
      ],
      "metadata": {
        "colab": {
          "base_uri": "https://localhost:8080/"
        },
        "id": "BJ0fURKXc-38",
        "outputId": "fc423039-f279-4126-fbbb-42c02aef446a"
      },
      "id": "BJ0fURKXc-38",
      "execution_count": 12,
      "outputs": [
        {
          "output_type": "stream",
          "name": "stderr",
          "text": []
        }
      ]
    },
    {
      "metadata": {
        "id": "ecdc794f43375c02"
      },
      "cell_type": "markdown",
      "source": [
        "#### Top-k = 20% with AttackerBackdoor"
      ],
      "id": "ecdc794f43375c02"
    },
    {
      "cell_type": "code",
      "source": [
        "topk_ratio = 0.2\n",
        "fedavg_server = FedAvgServerDefenseCoordinate(\n",
        "    0.02, 200, sample_split, 0.2, 2, 42,\n",
        "    defense=lambda x: sparsefed_defense(x, clip_norm=10.0, topk_ratio=topk_ratio)\n",
        ")\n",
        "clients = fedavg_server.clients\n",
        "num_malicious = int(0.20 * len(clients))\n",
        "malicious_indices = np.random.choice(len(clients), num_malicious, replace=False)\n",
        "\n",
        "for idx in malicious_indices:\n",
        "    client_data = clients[idx].loader_train.dataset\n",
        "    lr = clients[idx].optimizer.param_groups[0]['lr']\n",
        "    batch_size = clients[idx].loader_train.batch_size\n",
        "    nr_epochs = clients[idx].nr_epochs\n",
        "    clients[idx] = AttackerBackdoor(client_data, lr, batch_size, nr_epochs)\n",
        "\n",
        "result_20_backdoor = fedavg_server.run(10)\n",
        "df_20_backdoor = result_20_backdoor.as_df()"
      ],
      "metadata": {
        "colab": {
          "base_uri": "https://localhost:8080/"
        },
        "id": "W2cWORlPdFZ2",
        "outputId": "368ffdd1-9d9c-41b4-da8e-51e2b4f164b5"
      },
      "id": "W2cWORlPdFZ2",
      "execution_count": 21,
      "outputs": [
        {
          "output_type": "stream",
          "name": "stderr",
          "text": []
        }
      ]
    },
    {
      "metadata": {
        "id": "dfbca1347d74d12d"
      },
      "cell_type": "markdown",
      "source": [
        "#### Top-k = 50% with AttackerGradientReversion"
      ],
      "id": "dfbca1347d74d12d"
    },
    {
      "metadata": {
        "colab": {
          "base_uri": "https://localhost:8080/"
        },
        "id": "f35e87a55b8aeddd",
        "outputId": "befcb0f2-347f-4525-e8da-0ccd81f2b073"
      },
      "cell_type": "code",
      "outputs": [
        {
          "output_type": "stream",
          "name": "stderr",
          "text": []
        }
      ],
      "execution_count": 22,
      "source": [
        "fedavg_server_50_reverse = FedAvgServerDefenseCoordinate(\n",
        "    0.02, 200, sample_split, 0.2, 2, 42,\n",
        "    defense=lambda x: sparsefed_defense(x, clip_norm=10.0, topk_ratio=0.5)\n",
        ")\n",
        "clients = fedavg_server_50_reverse.clients\n",
        "malicious_indices = np.random.choice(len(clients), int(0.2 * len(clients)), replace=False)\n",
        "\n",
        "for idx in malicious_indices:\n",
        "    data = clients[idx].loader_train.dataset\n",
        "    lr = clients[idx].optimizer.param_groups[0]['lr']\n",
        "    bs = clients[idx].loader_train.batch_size\n",
        "    ep = clients[idx].nr_epochs\n",
        "    clients[idx] = AttackerGradientReversion(data, lr, bs, ep)\n",
        "\n",
        "result_50_reverse = fedavg_server_50_reverse.run(10)\n",
        "df_50_reverse = result_50_reverse.as_df()"
      ],
      "id": "f35e87a55b8aeddd"
    },
    {
      "metadata": {
        "id": "b18e0911e0d0cfd1"
      },
      "cell_type": "markdown",
      "source": [
        "#### Top-k = 50% with AttackerBackdoor"
      ],
      "id": "b18e0911e0d0cfd1"
    },
    {
      "metadata": {
        "colab": {
          "base_uri": "https://localhost:8080/"
        },
        "id": "106877c7d5067ad9",
        "outputId": "c87e815d-fb87-4a11-e17d-8acafd13d528"
      },
      "cell_type": "code",
      "outputs": [
        {
          "output_type": "stream",
          "name": "stderr",
          "text": []
        }
      ],
      "execution_count": 23,
      "source": [
        "fedavg_server_50_backdoor = FedAvgServerDefenseCoordinate(\n",
        "    0.02, 200, sample_split, 0.2, 2, 42,\n",
        "    defense=lambda x: sparsefed_defense(x, clip_norm=10.0, topk_ratio=0.5)\n",
        ")\n",
        "clients = fedavg_server_50_backdoor.clients\n",
        "malicious_indices = np.random.choice(len(clients), int(0.2 * len(clients)), replace=False)\n",
        "\n",
        "for idx in malicious_indices:\n",
        "    data = clients[idx].loader_train.dataset\n",
        "    lr = clients[idx].optimizer.param_groups[0]['lr']\n",
        "    bs = clients[idx].loader_train.batch_size\n",
        "    ep = clients[idx].nr_epochs\n",
        "    clients[idx] = AttackerBackdoor(data, lr, bs, ep)\n",
        "\n",
        "result_50_backdoor = fedavg_server_50_backdoor.run(10)\n",
        "df_50_backdoor = result_50_backdoor.as_df()"
      ],
      "id": "106877c7d5067ad9"
    },
    {
      "metadata": {
        "id": "bb765f1396c2d726"
      },
      "cell_type": "markdown",
      "source": [
        "#### Top-k = 80% with AttackerGradientReversion"
      ],
      "id": "bb765f1396c2d726"
    },
    {
      "metadata": {
        "colab": {
          "base_uri": "https://localhost:8080/"
        },
        "id": "e048cf049ce6115a",
        "outputId": "e85bda7a-fab2-4473-bd3c-02844d370ec3"
      },
      "cell_type": "code",
      "outputs": [
        {
          "output_type": "stream",
          "name": "stderr",
          "text": []
        }
      ],
      "execution_count": 24,
      "source": [
        "fedavg_server_80_reverse = FedAvgServerDefenseCoordinate(\n",
        "    0.02, 200, sample_split, 0.2, 2, 42,\n",
        "    defense=lambda x: sparsefed_defense(x, clip_norm=10.0, topk_ratio=0.8)\n",
        ")\n",
        "clients = fedavg_server_80_reverse.clients\n",
        "malicious_indices = np.random.choice(len(clients), int(0.2 * len(clients)), replace=False)\n",
        "\n",
        "for idx in malicious_indices:\n",
        "    data = clients[idx].loader_train.dataset\n",
        "    lr = clients[idx].optimizer.param_groups[0]['lr']\n",
        "    bs = clients[idx].loader_train.batch_size\n",
        "    ep = clients[idx].nr_epochs\n",
        "    clients[idx] = AttackerGradientReversion(data, lr, bs, ep)\n",
        "\n",
        "result_80_reverse = fedavg_server_80_reverse.run(10)\n",
        "df_80_reverse = result_80_reverse.as_df()"
      ],
      "id": "e048cf049ce6115a"
    },
    {
      "metadata": {
        "id": "26794ce18b7540a3"
      },
      "cell_type": "markdown",
      "source": [
        "#### Top-k = 80% with AttackerBackdoor"
      ],
      "id": "26794ce18b7540a3"
    },
    {
      "metadata": {
        "colab": {
          "base_uri": "https://localhost:8080/"
        },
        "id": "806a80b617847e37",
        "outputId": "6b654958-8936-44c6-f9a2-94e66cc7cb1f"
      },
      "cell_type": "code",
      "outputs": [
        {
          "output_type": "stream",
          "name": "stderr",
          "text": []
        }
      ],
      "execution_count": 25,
      "source": [
        "fedavg_server_80_backdoor = FedAvgServerDefenseCoordinate(\n",
        "    0.02, 200, sample_split, 0.2, 2, 42,\n",
        "    defense=lambda x: sparsefed_defense(x, clip_norm=10.0, topk_ratio=0.8)\n",
        ")\n",
        "clients = fedavg_server_80_backdoor.clients\n",
        "malicious_indices = np.random.choice(len(clients), int(0.2 * len(clients)), replace=False)\n",
        "\n",
        "for idx in malicious_indices:\n",
        "    data = clients[idx].loader_train.dataset\n",
        "    lr = clients[idx].optimizer.param_groups[0]['lr']\n",
        "    bs = clients[idx].loader_train.batch_size\n",
        "    ep = clients[idx].nr_epochs\n",
        "    clients[idx] = AttackerBackdoor(data, lr, bs, ep)\n",
        "\n",
        "result_80_backdoor = fedavg_server_80_backdoor.run(10)\n",
        "df_80_backdoor = result_80_backdoor.as_df()"
      ],
      "id": "806a80b617847e37"
    },
    {
      "metadata": {
        "id": "41fd704bb619566a"
      },
      "cell_type": "markdown",
      "source": [
        "#### Results"
      ],
      "id": "41fd704bb619566a"
    },
    {
      "cell_type": "code",
      "source": [
        "plt.figure(figsize=(10, 6))\n",
        "plt.plot(df_20_reverse['Test accuracy'], label='Top-20%')\n",
        "plt.plot(df_50_reverse['Test accuracy'], label='Top-50%')\n",
        "plt.plot(df_80_reverse['Test accuracy'], label='Top-80%')\n",
        "plt.xlabel('Rounds')\n",
        "plt.ylabel('Test Accuracy (%)')\n",
        "plt.title('SparseFed vs Gradient Reversion Attack')\n",
        "plt.legend()\n",
        "plt.grid()\n",
        "plt.show()\n",
        "\n",
        "print(\"SparseFed vs Gradient Reversion Attack (Test Accuracy over Rounds):\\n\")\n",
        "print(\"Top-20%:\\n\", df_20_reverse['Test accuracy'].to_string(index=False))\n",
        "print(\"\\nTop-50%:\\n\", df_50_reverse['Test accuracy'].to_string(index=False))\n",
        "print(\"\\nTop-80%:\\n\", df_80_reverse['Test accuracy'].to_string(index=False))"
      ],
      "metadata": {
        "id": "uKC0O5SsdIC5",
        "colab": {
          "base_uri": "https://localhost:8080/",
          "height": 1000
        },
        "outputId": "fb49adbf-bb65-40ed-df7c-bbbdb1f66d6f"
      },
      "id": "uKC0O5SsdIC5",
      "execution_count": 29,
      "outputs": [
        {
          "output_type": "display_data",
          "data": {
            "text/plain": [
              "<Figure size 1000x600 with 1 Axes>"
            ],
            "image/png": "[encoded data removed]"
          },
          "metadata": {}
        },
        {
          "output_type": "stream",
          "name": "stdout",
          "text": [
            "SparseFed vs Gradient Reversion Attack (Test Accuracy over Rounds):\n",
            "\n",
            "Top-20%:\n",
            " 8.44\n",
            "8.43\n",
            "8.48\n",
            "8.42\n",
            "8.18\n",
            "8.29\n",
            "8.50\n",
            "8.13\n",
            "8.26\n",
            "7.97\n",
            "\n",
            "Top-50%:\n",
            " 8.74\n",
            "8.70\n",
            "8.77\n",
            "8.77\n",
            "8.92\n",
            "8.68\n",
            "8.81\n",
            "8.40\n",
            "8.64\n",
            "8.26\n",
            "\n",
            "Top-80%:\n",
            " 8.30\n",
            "8.13\n",
            "8.05\n",
            "7.86\n",
            "7.80\n",
            "7.49\n",
            "6.84\n",
            "6.80\n",
            "7.08\n",
            "6.66\n"
          ]
        }
      ]
    },
    {
      "cell_type": "markdown",
      "source": [
        "Here for the Gradient Reversion Attack results, we can see that the performance of SparseFed depends strongly on the top-k sparsification level. The model with Top-50% sparsification achieves the best and most stable test accuracy across all 10 rounds, staying around 8.7–8.9%. The Top-20% model also performs reasonably well, although slightly less stable and with a small drop near the end. On the other hand, the Top-80% model performs the worst, with test accuracy dropping sharply after round 4 and falling to 6.66% by round 9. This shows that using a higher sparsification level (like Top-50%) helps filter out malicious gradients more effectively, improving the model’s robustness. However, when too many gradients are included (Top-80%), the defense becomes weak, and the attack has a stronger negative impact."
      ],
      "metadata": {
        "id": "RFg_FsET9zsx"
      },
      "id": "RFg_FsET9zsx"
    },
    {
      "cell_type": "code",
      "source": [
        "plt.figure(figsize=(10, 6))\n",
        "plt.plot(df_20_backdoor['Test accuracy'], label='Top-20%')\n",
        "plt.plot(df_50_backdoor['Test accuracy'], label='Top-50%')\n",
        "plt.plot(df_80_backdoor['Test accuracy'], label='Top-80%')\n",
        "plt.xlabel('Rounds')\n",
        "plt.ylabel('Test Accuracy (%)')\n",
        "plt.title('SparseFed vs Backdoor Attack')\n",
        "plt.legend()\n",
        "plt.grid()\n",
        "plt.show()\n",
        "\n",
        "print(\"SparseFed vs Backdoor Attack (Test Accuracy over Rounds):\\n\")\n",
        "print(\"Top-20%:\\n\", df_20_backdoor['Test accuracy'].to_string(index=False))\n",
        "print(\"\\nTop-50%:\\n\", df_50_backdoor['Test accuracy'].to_string(index=False))\n",
        "print(\"\\nTop-80%:\\n\", df_80_backdoor['Test accuracy'].to_string(index=False))\n"
      ],
      "metadata": {
        "colab": {
          "base_uri": "https://localhost:8080/",
          "height": 1000
        },
        "id": "sHTBpRVx8auA",
        "outputId": "1d94d9e4-3cea-4e45-b517-d86649fd1ec8"
      },
      "id": "sHTBpRVx8auA",
      "execution_count": 28,
      "outputs": [
        {
          "output_type": "display_data",
          "data": {
            "text/plain": [
              "<Figure size 1000x600 with 1 Axes>"
            ],
            "image/png": "[encoded data removed]"
          },
          "metadata": {}
        },
        {
          "output_type": "stream",
          "name": "stdout",
          "text": [
            "SparseFed vs Backdoor Attack (Test Accuracy over Rounds):\n",
            "\n",
            "Top-20%:\n",
            " 8.96\n",
            "9.27\n",
            "9.48\n",
            "9.67\n",
            "9.75\n",
            "9.77\n",
            "9.77\n",
            "9.79\n",
            "9.79\n",
            "9.80\n",
            "\n",
            "Top-50%:\n",
            " 9.07\n",
            "9.38\n",
            "9.61\n",
            "9.75\n",
            "9.77\n",
            "9.78\n",
            "9.79\n",
            "9.79\n",
            "9.80\n",
            "9.80\n",
            "\n",
            "Top-80%:\n",
            " 9.01\n",
            "9.45\n",
            "9.67\n",
            "9.75\n",
            "9.77\n",
            "9.79\n",
            "9.79\n",
            "9.80\n",
            "9.80\n",
            "9.80\n"
          ]
        }
      ]
    },
    {
      "cell_type": "markdown",
      "source": [
        "Here for the Backdoor Attack results, we can see that all three levels of sparsification (Top-20%, Top-50%, and Top-80%) result in high and very similar test accuracy values by the end of training, reaching up to 9.80%. While there are small differences in the first few rounds (with Top-80% rising a bit faster), all three models converge to almost the same performance. This suggests that SparseFed is quite effective at defending against the Backdoor Attack, regardless of the exact sparsification level. The reason might be that the clipping step already limits harmful updates, and the nature of the backdoor attack is easier to suppress compared to the gradient reversion attack. Overall, sparsification did not harm the model's performance here and even helped slightly in the early rounds."
      ],
      "metadata": {
        "id": "l6I4ShNQ92GC"
      },
      "id": "l6I4ShNQ92GC"
    },
    {
      "metadata": {
        "id": "ef308e40c58d5951"
      },
      "cell_type": "markdown",
      "source": [
        "### For any questions regarding this assignment, send an email to c.zhu-2@tudelft.nl"
      ],
      "id": "ef308e40c58d5951"
    }
  ],
  "metadata": {
    "language_info": {
      "name": "python"
    },
    "kernelspec": {
      "name": "python3",
      "display_name": "Python 3"
    },
    "colab": {
      "provenance": [],
      "gpuType": "T4"
    },
    "accelerator": "GPU"
  },
  "nbformat": 4,
  "nbformat_minor": 5
}